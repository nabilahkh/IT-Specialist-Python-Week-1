{
 "cells": [
  {
   "cell_type": "markdown",
   "id": "c00bcd29-554f-4fa0-8381-42641c8cdf8c",
   "metadata": {},
   "source": [
    "## Break \n",
    "\n",
    "- Pernyataan break menghentikan perulangan kemudian keluar, dilanjutkan dengan mengeksekusi pernyataan (statement) setelah blok perulangan\n",
    "- Jika Anda memiliki perulangan bertingkat, break akan menghentikan perulangan sesuai dengan tingkatan atau di perulangan mana ia berada\n",
    "- Namun jika ia diletakkan di perulangan dengan kedalaman kedua misalnya, hanya perulangan itu saja yang berhenti tidak dengan perulangan utama"
   ]
  },
  {
   "cell_type": "code",
   "execution_count": 7,
   "id": "1f7194e4-497f-4838-a497-e0f45bacde48",
   "metadata": {},
   "outputs": [
    {
     "name": "stdout",
     "output_type": "stream",
     "text": [
      "H\n",
      "e\n",
      "l\n",
      "l\n",
      "o\n"
     ]
    }
   ],
   "source": [
    "for x in \"Hello World\":\n",
    "    if x == \" \" :\n",
    "       break \n",
    "    print(x)"
   ]
  },
  {
   "cell_type": "markdown",
   "id": "822360c2-da39-47ab-adde-2818021c8ce0",
   "metadata": {},
   "source": [
    "## Continue\n",
    "\n",
    "- -The continue statement will make the current iteration stop,then continue to the next iteration\n",
    "- Ignores statements between continue and the end of the loop block"
   ]
  },
  {
   "cell_type": "code",
   "execution_count": 20,
   "id": "306ba2e8-146f-4e77-8a96-dfc359ac1a43",
   "metadata": {},
   "outputs": [
    {
     "name": "stdout",
     "output_type": "stream",
     "text": [
      "K\n",
      "A\n",
      "M\n",
      "P\n",
      "U\n",
      "S\n",
      " \n",
      "M\n",
      "E\n",
      "R\n",
      "E\n",
      "K\n",
      "A\n"
     ]
    }
   ],
   "source": [
    "for x in\"KAMPUS MERDEKA\":\n",
    "     if x == \"D\" :\n",
    "         continue\n",
    "     print(x)"
   ]
  },
  {
   "cell_type": "code",
   "execution_count": null,
   "id": "a2a1083a-fd87-4626-ab77-ce6b51cb9e79",
   "metadata": {},
   "outputs": [],
   "source": []
  },
  {
   "cell_type": "code",
   "execution_count": null,
   "id": "5064fa92-b686-4eb3-ad56-6c892435a593",
   "metadata": {},
   "outputs": [],
   "source": []
  }
 ],
 "metadata": {
  "kernelspec": {
   "display_name": "Python 3 (ipykernel)",
   "language": "python",
   "name": "python3"
  },
  "language_info": {
   "codemirror_mode": {
    "name": "ipython",
    "version": 3
   },
   "file_extension": ".py",
   "mimetype": "text/x-python",
   "name": "python",
   "nbconvert_exporter": "python",
   "pygments_lexer": "ipython3",
   "version": "3.11.7"
  }
 },
 "nbformat": 4,
 "nbformat_minor": 5
}
