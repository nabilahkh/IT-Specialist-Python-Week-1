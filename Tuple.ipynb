{
 "cells": [
  {
   "cell_type": "markdown",
   "id": "a48abe03-fd15-4c19-bd0f-c08642ca9307",
   "metadata": {},
   "source": [
    "# Data Type Tuple"
   ]
  },
  {
   "cell_type": "code",
   "execution_count": 1,
   "id": "ab420472-2f43-410f-8e14-5238d1817c05",
   "metadata": {},
   "outputs": [
    {
     "name": "stdout",
     "output_type": "stream",
     "text": [
      "('Apple', 'Banana', 'Cherry', 'Apple', 'Cherry')\n"
     ]
    }
   ],
   "source": [
    "fruit = (\"Apple\", \"Banana\", \"Cherry\", \"Apple\", \"Cherry\")\n",
    "print(fruit)"
   ]
  },
  {
   "cell_type": "code",
   "execution_count": 2,
   "id": "420616f5-de18-43cb-8b4d-2a6fae3370dc",
   "metadata": {},
   "outputs": [
    {
     "data": {
      "text/plain": [
       "tuple"
      ]
     },
     "execution_count": 2,
     "metadata": {},
     "output_type": "execute_result"
    }
   ],
   "source": [
    "type(fruit)"
   ]
  },
  {
   "cell_type": "raw",
   "id": "33306847-8493-41e7-a19d-3b6be1f20fd8",
   "metadata": {},
   "source": [
    "We can perform slicing on tuples, \n",
    "but we cannot modify them afterward because tuples are immutable."
   ]
  },
  {
   "cell_type": "code",
   "execution_count": 3,
   "id": "0d964aff-6445-425e-a741-2f7d861a9748",
   "metadata": {},
   "outputs": [],
   "source": [
    "# Creating a tuple\n",
    "numbers = (1,2,3,4,5)"
   ]
  },
  {
   "cell_type": "code",
   "execution_count": 4,
   "id": "dc1265e9-65af-4721-aced-4410061db139",
   "metadata": {},
   "outputs": [
    {
     "name": "stdout",
     "output_type": "stream",
     "text": [
      "3\n"
     ]
    }
   ],
   "source": [
    "#  Accessing an element at index 2\n",
    "print(numbers[2]) "
   ]
  },
  {
   "cell_type": "code",
   "execution_count": 5,
   "id": "38246a97-d621-4c41-bc57-4c5cfdf8a6b2",
   "metadata": {},
   "outputs": [
    {
     "name": "stdout",
     "output_type": "stream",
     "text": [
      "(2, 3, 4)\n"
     ]
    }
   ],
   "source": [
    "#  Slicing the tuple from index 1 to 4 \n",
    "print(numbers[1:4])"
   ]
  },
  {
   "cell_type": "code",
   "execution_count": 6,
   "id": "19e33e93-1d43-4b98-983d-22571cb22f68",
   "metadata": {},
   "outputs": [
    {
     "ename": "TypeError",
     "evalue": "'tuple' object does not support item assignment",
     "output_type": "error",
     "traceback": [
      "\u001b[1;31m---------------------------------------------------------------------------\u001b[0m",
      "\u001b[1;31mTypeError\u001b[0m                                 Traceback (most recent call last)",
      "Cell \u001b[1;32mIn[6], line 2\u001b[0m\n\u001b[0;32m      1\u001b[0m \u001b[38;5;66;03m#  Attemping to modify an element in the tuple (which will raise an error)\u001b[39;00m\n\u001b[1;32m----> 2\u001b[0m numbers[\u001b[38;5;241m0\u001b[39m] \u001b[38;5;241m=\u001b[39m \u001b[38;5;241m10\u001b[39m\n",
      "\u001b[1;31mTypeError\u001b[0m: 'tuple' object does not support item assignment"
     ]
    }
   ],
   "source": [
    "#  Attemping to modify an element in the tuple (which will raise an error)\n",
    "numbers[0] = 10 "
   ]
  },
  {
   "cell_type": "code",
   "execution_count": null,
   "id": "c4a03d51-2f39-4c03-8ee1-f089a5cbad0b",
   "metadata": {},
   "outputs": [],
   "source": []
  }
 ],
 "metadata": {
  "kernelspec": {
   "display_name": "Python 3 (ipykernel)",
   "language": "python",
   "name": "python3"
  },
  "language_info": {
   "codemirror_mode": {
    "name": "ipython",
    "version": 3
   },
   "file_extension": ".py",
   "mimetype": "text/x-python",
   "name": "python",
   "nbconvert_exporter": "python",
   "pygments_lexer": "ipython3",
   "version": "3.11.7"
  }
 },
 "nbformat": 4,
 "nbformat_minor": 5
}
