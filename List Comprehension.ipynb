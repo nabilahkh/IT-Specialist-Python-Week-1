{
 "cells": [
  {
   "cell_type": "markdown",
   "id": "776bbc9f-4f2a-49a4-a8d8-b85231978371",
   "metadata": {},
   "source": [
    "List Comprehension"
   ]
  },
  {
   "cell_type": "markdown",
   "id": "15465dd1-eb6c-462f-8b33-df544ea56503",
   "metadata": {},
   "source": [
    "List comprehension in Python offers a concise method for creating lists by applying expressions to iterable elements. It's a powerful tool for data analysts to quickly generate, transform, or filter lists in a single line of code, enhancing productivity and readability."
   ]
  },
  {
   "cell_type": "code",
   "execution_count": 1,
   "id": "2b1222c9-3c3c-4456-b7de-0a993e6dabce",
   "metadata": {},
   "outputs": [],
   "source": [
    "angka = [2,3,4]"
   ]
  },
  {
   "cell_type": "code",
   "execution_count": 2,
   "id": "3fce2f4e-7e31-45ca-b56c-1eb527fe548d",
   "metadata": {},
   "outputs": [],
   "source": [
    "kubik =[]"
   ]
  },
  {
   "cell_type": "code",
   "execution_count": 20,
   "id": "a6ba0515-d7e9-4503-80f1-9fda29de848e",
   "metadata": {},
   "outputs": [
    {
     "name": "stdout",
     "output_type": "stream",
     "text": [
      "[8, 27, 64, 125, 1000, 3375]\n"
     ]
    }
   ],
   "source": [
    "for i in angka:\n",
    "    kubik.append(i**3)\n",
    "print(kubik)"
   ]
  },
  {
   "cell_type": "code",
   "execution_count": 4,
   "id": "89e9e021-5dc8-4772-8ecc-97184359638a",
   "metadata": {},
   "outputs": [
    {
     "name": "stdout",
     "output_type": "stream",
     "text": [
      "[8, 27, 64]\n"
     ]
    }
   ],
   "source": [
    "print(kubik)"
   ]
  },
  {
   "cell_type": "markdown",
   "id": "8f4f0a37-a43c-4a25-b715-17335ac1c01d",
   "metadata": {},
   "source": [
    "Penulisan Cara lain"
   ]
  },
  {
   "cell_type": "code",
   "execution_count": 5,
   "id": "91aca663-743f-4cc2-bf2b-803869246d20",
   "metadata": {},
   "outputs": [],
   "source": [
    "angka = [2,3,4]"
   ]
  },
  {
   "cell_type": "code",
   "execution_count": 6,
   "id": "d7a946e6-e509-43da-8903-f6f38d892039",
   "metadata": {},
   "outputs": [],
   "source": [
    "kubik = [i**3 for i in angka]"
   ]
  },
  {
   "cell_type": "code",
   "execution_count": 7,
   "id": "d669b8dc-344a-4299-bf8a-044a2ea8bc2d",
   "metadata": {},
   "outputs": [
    {
     "name": "stdout",
     "output_type": "stream",
     "text": [
      "[8, 27, 64]\n"
     ]
    }
   ],
   "source": [
    "print(kubik)"
   ]
  },
  {
   "cell_type": "markdown",
   "id": "1c19abf3-4155-4c39-a4a0-5f0d9e4648da",
   "metadata": {},
   "source": [
    "//TASK"
   ]
  },
  {
   "cell_type": "code",
   "execution_count": 24,
   "id": "29a74b01-bd8c-472a-b106-eda06e4e6612",
   "metadata": {},
   "outputs": [],
   "source": [
    "angka = [5,10,15]"
   ]
  },
  {
   "cell_type": "code",
   "execution_count": 25,
   "id": "711f9609-ee41-4c22-8a30-1aef0328ec17",
   "metadata": {},
   "outputs": [],
   "source": [
    "kelipatan =[]"
   ]
  },
  {
   "cell_type": "code",
   "execution_count": 26,
   "id": "84f96291-a3ec-484d-b95a-7e1a9c9381d2",
   "metadata": {},
   "outputs": [
    {
     "name": "stdout",
     "output_type": "stream",
     "text": [
      "[3125, 100000, 759375]\n"
     ]
    }
   ],
   "source": [
    "for a in angka:\n",
    "    kelipatan.append(a**5)\n",
    "print(kelipatan)"
   ]
  },
  {
   "cell_type": "code",
   "execution_count": 27,
   "id": "e73dc589-5b7f-4758-a55b-6d04c3b3d764",
   "metadata": {},
   "outputs": [
    {
     "name": "stdout",
     "output_type": "stream",
     "text": [
      "[3125, 100000, 759375]\n"
     ]
    }
   ],
   "source": [
    "print(kelipatan)"
   ]
  },
  {
   "cell_type": "markdown",
   "id": "bdd75cc4-2f20-4a76-b53d-446040406cd5",
   "metadata": {},
   "source": [
    "Cara Lain "
   ]
  },
  {
   "cell_type": "code",
   "execution_count": 28,
   "id": "d9c4ab65-bad1-400a-80bc-73d00b67a911",
   "metadata": {},
   "outputs": [],
   "source": [
    "angka = [5,10,15]"
   ]
  },
  {
   "cell_type": "code",
   "execution_count": 29,
   "id": "65ed47e3-d605-4163-9f5d-5ffc3bfd54fc",
   "metadata": {},
   "outputs": [],
   "source": [
    "kelipatan = [a**5 for a in angka]"
   ]
  },
  {
   "cell_type": "code",
   "execution_count": 30,
   "id": "de9394f1-906e-4164-9bdb-bc94fba69d36",
   "metadata": {},
   "outputs": [
    {
     "name": "stdout",
     "output_type": "stream",
     "text": [
      "[3125, 100000, 759375]\n"
     ]
    }
   ],
   "source": [
    "print(kelipatan)"
   ]
  },
  {
   "cell_type": "code",
   "execution_count": 31,
   "id": "29f8005c-f6fe-455d-a414-1ffec227670b",
   "metadata": {},
   "outputs": [
    {
     "name": "stdout",
     "output_type": "stream",
     "text": [
      "['c']\n"
     ]
    }
   ],
   "source": [
    "abc = ['a', 'b', 'c']\n",
    "cde = ['c', 'd', 'e']\n",
    "\n",
    "duplikat = []\n",
    "\n",
    "for i in abc:\n",
    "    for j in cde:\n",
    "        if i ==j:\n",
    "            duplikat.append(i)\n",
    "\n",
    "print(duplikat)"
   ]
  },
  {
   "cell_type": "code",
   "execution_count": 32,
   "id": "4279003a-20c2-43ae-a8db-3d93b8e93754",
   "metadata": {},
   "outputs": [
    {
     "name": "stdout",
     "output_type": "stream",
     "text": [
      "['c']\n"
     ]
    }
   ],
   "source": [
    "abc = ['a', 'b', 'c']\n",
    "cde = ['c', 'd', 'e']\n",
    "\n",
    "duplikat = [i for i in abc for j in cde if i ==j]\n",
    "\n",
    "print(duplikat)"
   ]
  },
  {
   "cell_type": "code",
   "execution_count": 36,
   "id": "51960fde-1e68-4086-b0c0-a57b88ebe268",
   "metadata": {},
   "outputs": [
    {
     "name": "stdout",
     "output_type": "stream",
     "text": [
      "['DATA', 'SCIENCE']\n"
     ]
    }
   ],
   "source": [
    "data = [\"data\", \"science\"]\n",
    "\n",
    "upper = [_.upper() for _ in data]\n",
    "\n",
    "print(upper)"
   ]
  }
 ],
 "metadata": {
  "kernelspec": {
   "display_name": "Python 3 (ipykernel)",
   "language": "python",
   "name": "python3"
  },
  "language_info": {
   "codemirror_mode": {
    "name": "ipython",
    "version": 3
   },
   "file_extension": ".py",
   "mimetype": "text/x-python",
   "name": "python",
   "nbconvert_exporter": "python",
   "pygments_lexer": "ipython3",
   "version": "3.11.7"
  }
 },
 "nbformat": 4,
 "nbformat_minor": 5
}
