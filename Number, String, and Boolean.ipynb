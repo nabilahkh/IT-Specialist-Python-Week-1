{
 "cells": [
  {
   "cell_type": "markdown",
   "id": "9bf6f6d3-b193-48a9-a10e-40c73124b826",
   "metadata": {},
   "source": [
    "The built-in data types in Python are as follows:\n",
    "\n",
    "1. Numbers\n",
    "2. String\n",
    "3. Boolean"
   ]
  },
  {
   "cell_type": "markdown",
   "id": "cba523e9-7e86-4352-9f34-37b97ca55747",
   "metadata": {},
   "source": [
    "1. Numbers,the number data types in Phyton are divided into three categories: int, float, complex."
   ]
  },
  {
   "cell_type": "code",
   "execution_count": 3,
   "id": "015c995e-0170-4055-9d65-6f685bdc02dc",
   "metadata": {},
   "outputs": [],
   "source": [
    "a = 10"
   ]
  },
  {
   "cell_type": "code",
   "execution_count": 4,
   "id": "feea9650-e11f-43bc-a709-f4591ca921af",
   "metadata": {},
   "outputs": [
    {
     "data": {
      "text/plain": [
       "int"
      ]
     },
     "execution_count": 4,
     "metadata": {},
     "output_type": "execute_result"
    }
   ],
   "source": [
    "type(a)"
   ]
  },
  {
   "cell_type": "code",
   "execution_count": 5,
   "id": "3cf22dae-c782-444b-b53b-1b935ca6f301",
   "metadata": {},
   "outputs": [],
   "source": [
    "b = 1.7"
   ]
  },
  {
   "cell_type": "code",
   "execution_count": 6,
   "id": "ac0ce48a-9168-4732-b037-c8ed29bba930",
   "metadata": {},
   "outputs": [
    {
     "data": {
      "text/plain": [
       "float"
      ]
     },
     "execution_count": 6,
     "metadata": {},
     "output_type": "execute_result"
    }
   ],
   "source": [
    "type(b)"
   ]
  },
  {
   "cell_type": "markdown",
   "id": "4ae127a1-9b79-49ac-8938-c6d2167abcdd",
   "metadata": {},
   "source": [
    "The difference between Integer and Float is decimal points."
   ]
  },
  {
   "cell_type": "code",
   "execution_count": 8,
   "id": "d6b83e57-f4a3-41c6-800c-82b4fc83496b",
   "metadata": {},
   "outputs": [],
   "source": [
    "a = 1"
   ]
  },
  {
   "cell_type": "code",
   "execution_count": 11,
   "id": "ba83925e-8771-4fb4-9fb2-d7db5f3a0283",
   "metadata": {},
   "outputs": [
    {
     "data": {
      "text/plain": [
       "int"
      ]
     },
     "execution_count": 11,
     "metadata": {},
     "output_type": "execute_result"
    }
   ],
   "source": [
    "type(a)"
   ]
  },
  {
   "cell_type": "code",
   "execution_count": 9,
   "id": "adb1b716-3103-4098-84a4-093863ab83a3",
   "metadata": {},
   "outputs": [],
   "source": [
    "b = 1.0"
   ]
  },
  {
   "cell_type": "code",
   "execution_count": 10,
   "id": "5573ae31-7e93-46f3-960a-f44a2ea5d957",
   "metadata": {},
   "outputs": [
    {
     "data": {
      "text/plain": [
       "float"
      ]
     },
     "execution_count": 10,
     "metadata": {},
     "output_type": "execute_result"
    }
   ],
   "source": [
    "type(b)"
   ]
  },
  {
   "cell_type": "markdown",
   "id": "50223276-c745-4788-9b92-35eddffa9d11",
   "metadata": {},
   "source": [
    "Phyton also supports imaginary and complex numbers. Complex number values are written in the form of x + yj, where x is the real part and y is the imaginary part. For example:"
   ]
  },
  {
   "cell_type": "code",
   "execution_count": 12,
   "id": "2f936c67-4a19-4efa-8188-e5aecb08f0f5",
   "metadata": {},
   "outputs": [],
   "source": [
    "c = 1+2j"
   ]
  },
  {
   "cell_type": "code",
   "execution_count": 13,
   "id": "2e0dceb8-7216-41d9-ae44-95ab890fb5ee",
   "metadata": {},
   "outputs": [
    {
     "data": {
      "text/plain": [
       "complex"
      ]
     },
     "execution_count": 13,
     "metadata": {},
     "output_type": "execute_result"
    }
   ],
   "source": [
    "type(c)"
   ]
  },
  {
   "cell_type": "markdown",
   "id": "869c116a-e963-423d-a490-5d8904671771",
   "metadata": {},
   "source": [
    "2. String, a string is a sequence of Unicode characters declared with single or double quotes. String > 1 line can be marked with three single or double quotes ''' or \"\"\""
   ]
  },
  {
   "cell_type": "code",
   "execution_count": 1,
   "id": "4d204188-c1a8-4bcd-8372-ab7f68308fd3",
   "metadata": {},
   "outputs": [],
   "source": [
    "a = \"Hello World\""
   ]
  },
  {
   "cell_type": "code",
   "execution_count": 3,
   "id": "20ab417a-28b0-4ec9-96c1-65a4a22451ae",
   "metadata": {},
   "outputs": [
    {
     "name": "stdout",
     "output_type": "stream",
     "text": [
      "Hello World\n"
     ]
    }
   ],
   "source": [
    "print(a)"
   ]
  },
  {
   "cell_type": "code",
   "execution_count": 4,
   "id": "87ae9327-3de0-4a41-a356-b6df308c2f17",
   "metadata": {},
   "outputs": [
    {
     "data": {
      "text/plain": [
       "str"
      ]
     },
     "execution_count": 4,
     "metadata": {},
     "output_type": "execute_result"
    }
   ],
   "source": [
    "type(a)"
   ]
  },
  {
   "cell_type": "code",
   "execution_count": 5,
   "id": "7af55312-d9b7-4011-ba2e-7d522a9c7686",
   "metadata": {},
   "outputs": [],
   "source": [
    "a = \"Hello World\""
   ]
  },
  {
   "cell_type": "code",
   "execution_count": 6,
   "id": "cd303d66-9d03-4f14-a1eb-fd8373b5d119",
   "metadata": {},
   "outputs": [
    {
     "name": "stdout",
     "output_type": "stream",
     "text": [
      "Hello World\n"
     ]
    }
   ],
   "source": [
    "print(a)"
   ]
  },
  {
   "cell_type": "code",
   "execution_count": 7,
   "id": "5b9d956e-96e9-4d9c-b3d1-dbb522df8e95",
   "metadata": {},
   "outputs": [],
   "source": [
    "a = \"\"\"Bootcamp Data Science.\n",
    "Kampus Merdeka X MyEduSolve.\n",
    "Kelas D.\"\"\""
   ]
  },
  {
   "cell_type": "code",
   "execution_count": 8,
   "id": "bc981d54-bf9e-4015-b412-97e5496a8628",
   "metadata": {},
   "outputs": [
    {
     "name": "stdout",
     "output_type": "stream",
     "text": [
      "Bootcamp Data Science.\n",
      "Kampus Merdeka X MyEduSolve.\n",
      "Kelas D.\n"
     ]
    }
   ],
   "source": [
    "print(a)"
   ]
  },
  {
   "cell_type": "code",
   "execution_count": 9,
   "id": "773a1871-b07b-4130-8a5e-2877f537dbf3",
   "metadata": {},
   "outputs": [],
   "source": [
    "b = \"Bootcamp Data Science. \\nKampus Merdeka X MyEduSolve. \\nKelas B.\""
   ]
  },
  {
   "cell_type": "code",
   "execution_count": 10,
   "id": "26854027-6e1d-4cae-958f-e76f502a67c9",
   "metadata": {},
   "outputs": [
    {
     "name": "stdout",
     "output_type": "stream",
     "text": [
      "Bootcamp Data Science. \n",
      "Kampus Merdeka X MyEduSolve. \n",
      "Kelas B.\n"
     ]
    }
   ],
   "source": [
    "print(b)"
   ]
  },
  {
   "cell_type": "code",
   "execution_count": 11,
   "id": "ba2a4b86-f5b3-4ef4-9cdf-a1d71d2fd070",
   "metadata": {},
   "outputs": [
    {
     "data": {
      "text/plain": [
       "\"Jum'at\""
      ]
     },
     "execution_count": 11,
     "metadata": {},
     "output_type": "execute_result"
    }
   ],
   "source": [
    "\"Jum'at\""
   ]
  },
  {
   "cell_type": "code",
   "execution_count": 12,
   "id": "52e27fe7-ebc7-445a-a3ae-2abb10ff96dd",
   "metadata": {},
   "outputs": [
    {
     "name": "stdout",
     "output_type": "stream",
     "text": [
      "Jum'at\n"
     ]
    }
   ],
   "source": [
    "print(\"Jum'at\")"
   ]
  },
  {
   "cell_type": "code",
   "execution_count": 13,
   "id": "34701d9d-8934-4ec8-8862-159a49d8cdee",
   "metadata": {},
   "outputs": [
    {
     "data": {
      "text/plain": [
       "\"I'am sorry\""
      ]
     },
     "execution_count": 13,
     "metadata": {},
     "output_type": "execute_result"
    }
   ],
   "source": [
    "\"I'am sorry\""
   ]
  },
  {
   "cell_type": "markdown",
   "id": "5d54b3a5-7800-4092-8726-6cfa5f39fd91",
   "metadata": {},
   "source": [
    "3. Boolean, boolean or bool data type is a subclass of integers (integer or int) with only two possible values: True and False."
   ]
  },
  {
   "cell_type": "code",
   "execution_count": 14,
   "id": "0cbd9528-5fb6-4803-b280-c5799e7c45d8",
   "metadata": {},
   "outputs": [
    {
     "data": {
      "text/plain": [
       "False"
      ]
     },
     "execution_count": 14,
     "metadata": {},
     "output_type": "execute_result"
    }
   ],
   "source": [
    "2 > 5"
   ]
  },
  {
   "cell_type": "code",
   "execution_count": 15,
   "id": "9d44d4a3-9602-4127-ba08-ac6b54e8b839",
   "metadata": {},
   "outputs": [
    {
     "data": {
      "text/plain": [
       "False"
      ]
     },
     "execution_count": 15,
     "metadata": {},
     "output_type": "execute_result"
    }
   ],
   "source": [
    "2 == 5"
   ]
  },
  {
   "cell_type": "code",
   "execution_count": 16,
   "id": "9947980c-1563-4a4e-812b-0e8c01aeb15b",
   "metadata": {},
   "outputs": [
    {
     "data": {
      "text/plain": [
       "True"
      ]
     },
     "execution_count": 16,
     "metadata": {},
     "output_type": "execute_result"
    }
   ],
   "source": [
    "2 <= 2"
   ]
  },
  {
   "cell_type": "code",
   "execution_count": 17,
   "id": "81d76540-c4ec-49f3-b3c9-f7bf9cdddcd0",
   "metadata": {},
   "outputs": [
    {
     "data": {
      "text/plain": [
       "True"
      ]
     },
     "execution_count": 17,
     "metadata": {},
     "output_type": "execute_result"
    }
   ],
   "source": [
    "2 != 3"
   ]
  }
 ],
 "metadata": {
  "kernelspec": {
   "display_name": "Python 3 (ipykernel)",
   "language": "python",
   "name": "python3"
  },
  "language_info": {
   "codemirror_mode": {
    "name": "ipython",
    "version": 3
   },
   "file_extension": ".py",
   "mimetype": "text/x-python",
   "name": "python",
   "nbconvert_exporter": "python",
   "pygments_lexer": "ipython3",
   "version": "3.11.7"
  }
 },
 "nbformat": 4,
 "nbformat_minor": 5
}
