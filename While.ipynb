{
 "cells": [
  {
   "cell_type": "markdown",
   "id": "f91456c4-e837-4feb-940b-1ddbbbb7db34",
   "metadata": {},
   "source": [
    "While"
   ]
  },
  {
   "cell_type": "markdown",
   "id": "2007fc22-2db8-4a7e-bab2-d103d9114aad",
   "metadata": {},
   "source": [
    "While loops in Python execute a block of code repeatedly as long as a specified condition remains true. In data analysis, they are used to automate repetitive tasks efficiently."
   ]
  },
  {
   "cell_type": "code",
   "execution_count": 2,
   "id": "afd27f9b-730e-4f66-9be9-f8551cc3f1e3",
   "metadata": {},
   "outputs": [
    {
     "name": "stdin",
     "output_type": "stream",
     "text": [
      " 0\n"
     ]
    },
    {
     "name": "stdout",
     "output_type": "stream",
     "text": [
      "bilangan 0\n",
      "bilangan 1\n",
      "bilangan 2\n"
     ]
    }
   ],
   "source": [
    "angka = int(input())\n",
    "\n",
    "while (angka <3):\n",
    "    print(\"bilangan {}\".format(angka))\n",
    "    angka = angka + 1"
   ]
  },
  {
   "cell_type": "code",
   "execution_count": 3,
   "id": "123f7d9b-fab7-4de6-8972-e27804f839b3",
   "metadata": {},
   "outputs": [
    {
     "name": "stdin",
     "output_type": "stream",
     "text": [
      " 3\n"
     ]
    },
    {
     "name": "stdout",
     "output_type": "stream",
     "text": [
      "bilangan 3\n",
      "bilangan 5\n",
      "bilangan 7\n",
      "bilangan 9\n"
     ]
    }
   ],
   "source": [
    "angka = int(input())\n",
    "\n",
    "while (angka <10):\n",
    "    print(\"bilangan {}\".format(angka))\n",
    "    angka = angka + 2"
   ]
  },
  {
   "cell_type": "code",
   "execution_count": 6,
   "id": "5c111377-567c-4e64-9035-50dab3d170bf",
   "metadata": {},
   "outputs": [
    {
     "name": "stdin",
     "output_type": "stream",
     "text": [
      " 5\n"
     ]
    },
    {
     "name": "stdout",
     "output_type": "stream",
     "text": [
      "bilangan 5\n",
      "bilangan 25\n"
     ]
    }
   ],
   "source": [
    "angka = int(input())\n",
    "\n",
    "while (angka <50):\n",
    "    print(\"bilangan {}\".format(angka))\n",
    "    angka = angka * 5"
   ]
  },
  {
   "cell_type": "code",
   "execution_count": 9,
   "id": "2207b953-18e8-408a-a69a-aeb85b1caf19",
   "metadata": {},
   "outputs": [
    {
     "name": "stdin",
     "output_type": "stream",
     "text": [
      "Masukkan angka:  7\n"
     ]
    },
    {
     "name": "stdout",
     "output_type": "stream",
     "text": [
      "bilangan 7\n",
      "bilangan 14\n",
      "bilangan 21\n",
      "bilangan 28\n",
      "bilangan 35\n",
      "bilangan 42\n"
     ]
    }
   ],
   "source": [
    "angka = int(input(\"Masukkan angka: \"))\n",
    "\n",
    "while angka < 49:  # Mengganti angka batas dengan 49 agar loop berhenti sebelum mencapai 49\n",
    "    print(\"bilangan {}\".format(angka))\n",
    "    angka = angka + 7"
   ]
  },
  {
   "cell_type": "code",
   "execution_count": 10,
   "id": "0788bee1-3847-4834-84a2-2b99e5623ab2",
   "metadata": {},
   "outputs": [
    {
     "name": "stdin",
     "output_type": "stream",
     "text": [
      " 1\n"
     ]
    },
    {
     "name": "stdout",
     "output_type": "stream",
     "text": [
      "3\n",
      "5\n",
      "7\n",
      "9\n",
      "11\n",
      "loop selesai\n"
     ]
    }
   ],
   "source": [
    "angka = int(input())\n",
    "\n",
    "while (angka < 10):\n",
    "    angka = angka + 2\n",
    "    if angka ==6:\n",
    "        break\n",
    "    print(angka)\n",
    "else:\n",
    "    print(\"loop selesai\")"
   ]
  },
  {
   "cell_type": "code",
   "execution_count": 12,
   "id": "7afbcf4f-d445-4b15-9757-d8d92a614912",
   "metadata": {},
   "outputs": [
    {
     "name": "stdin",
     "output_type": "stream",
     "text": [
      " 10\n"
     ]
    },
    {
     "name": "stdout",
     "output_type": "stream",
     "text": [
      "8\n",
      "6\n",
      "4\n",
      "2\n",
      "0\n",
      "loop selesai\n"
     ]
    }
   ],
   "source": [
    "angka = int(input())\n",
    "\n",
    "while (angka > 0):\n",
    "    angka = angka - 2\n",
    "    print(angka)\n",
    "else:\n",
    "    print(\"loop selesai\")"
   ]
  },
  {
   "cell_type": "code",
   "execution_count": 20,
   "id": "31bc68e4-2456-47f9-b20c-01dfdd9ee517",
   "metadata": {},
   "outputs": [
    {
     "name": "stdin",
     "output_type": "stream",
     "text": [
      "Masukkan Angka :  5\n"
     ]
    },
    {
     "name": "stdout",
     "output_type": "stream",
     "text": [
      "25\n",
      "125\n",
      "loop selesai\n"
     ]
    }
   ],
   "source": [
    "angka = int(input(\"Masukkan Angka : \"))\n",
    "\n",
    "while (angka < 100):\n",
    "    angka = angka * 5\n",
    "    if angka ==50:\n",
    "        break\n",
    "    print(angka)\n",
    "else:\n",
    "    print(\"loop selesai\")"
   ]
  },
  {
   "cell_type": "code",
   "execution_count": 27,
   "id": "9fd8c36b-a5b2-4126-adc3-29c282104e16",
   "metadata": {},
   "outputs": [
    {
     "name": "stdin",
     "output_type": "stream",
     "text": [
      "Masukkan Angka :  0\n"
     ]
    },
    {
     "name": "stdout",
     "output_type": "stream",
     "text": [
      "3\n",
      "6\n",
      "9\n",
      "12\n",
      "15\n",
      "Loop selesai\n"
     ]
    }
   ],
   "source": [
    "angka = int(input(\"Masukkan Angka : \"))\n",
    "\n",
    "while (angka < 21):\n",
    "    angka = angka + 3\n",
    "    if angka == 18:\n",
    "        break\n",
    "    print(angka)\n",
    "else:\n",
    "    print(\"Loop selesai\")\n",
    "print(\"Loop selesai\")"
   ]
  },
  {
   "cell_type": "code",
   "execution_count": null,
   "id": "5359c3f4-2ca9-4cca-a96b-d8ab52f2e181",
   "metadata": {},
   "outputs": [],
   "source": []
  }
 ],
 "metadata": {
  "kernelspec": {
   "display_name": "Python 3 (ipykernel)",
   "language": "python",
   "name": "python3"
  },
  "language_info": {
   "codemirror_mode": {
    "name": "ipython",
    "version": 3
   },
   "file_extension": ".py",
   "mimetype": "text/x-python",
   "name": "python",
   "nbconvert_exporter": "python",
   "pygments_lexer": "ipython3",
   "version": "3.11.7"
  }
 },
 "nbformat": 4,
 "nbformat_minor": 5
}
