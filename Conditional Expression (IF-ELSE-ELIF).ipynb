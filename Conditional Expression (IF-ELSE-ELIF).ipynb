{
 "cells": [
  {
   "cell_type": "markdown",
   "id": "3a06598f",
   "metadata": {},
   "source": [
    "Conditional expressions, commonly known as the ternary operator in Python, provide a succinct method for creating conditional statements. These expressions enable you to make decisions within a single line of code, enhancing the efficiency and readability of your programs."
   ]
  },
  {
   "cell_type": "markdown",
   "id": "7f56c16e",
   "metadata": {},
   "source": [
    "## IF "
   ]
  },
  {
   "cell_type": "markdown",
   "id": "ce92b5df",
   "metadata": {},
   "source": [
    "- In Python, expressions are positioned after the if keyword.\n",
    "- Decisions are determined based on the truth value of the expression.\n",
    "- If the expression evaluates to True, the block of statements within the if statement is executed.\n",
    "- Following convention, this block is indented after the colon (:).\n",
    "- If the expression evaluates to False, the next block (after the if statement) is executed."
   ]
  },
  {
   "cell_type": "code",
   "execution_count": 2,
   "id": "823ba6d8",
   "metadata": {},
   "outputs": [
    {
     "name": "stdout",
     "output_type": "stream",
     "text": [
      "I own a Honda\n"
     ]
    }
   ],
   "source": [
    "car_brand = \"Honda\"\n",
    "\n",
    "if car_brand:\n",
    "    print(\"I own a {}\".format(car_brand))"
   ]
  },
  {
   "cell_type": "code",
   "execution_count": 5,
   "id": "dd77825f",
   "metadata": {},
   "outputs": [
    {
     "name": "stdout",
     "output_type": "stream",
     "text": [
      "My car is Black\n"
     ]
    }
   ],
   "source": [
    "car_color = \"Black\"\n",
    "\n",
    "if car_color:\n",
    "    print(\"My car is {}\".format(car_color))"
   ]
  },
  {
   "cell_type": "code",
   "execution_count": 6,
   "id": "4edf31b3",
   "metadata": {},
   "outputs": [
    {
     "name": "stdout",
     "output_type": "stream",
     "text": [
      "My car was manufactured in 2021\n"
     ]
    }
   ],
   "source": [
    "car_year = 2021\n",
    "\n",
    "if car_year:\n",
    "    print(\"My car was manufactured in {}\".format(car_year))"
   ]
  },
  {
   "cell_type": "markdown",
   "id": "5fa95c9d",
   "metadata": {},
   "source": [
    "### ELSE "
   ]
  },
  {
   "cell_type": "markdown",
   "id": "a407f63f",
   "metadata": {},
   "source": [
    "- The else statement can be combined with the if statement to provide an alternative pathway when the condition/evaluation result is False. \n",
    "- The else statement is optional and singular."
   ]
  },
  {
   "cell_type": "code",
   "execution_count": 7,
   "id": "4043b9fd",
   "metadata": {},
   "outputs": [
    {
     "name": "stdout",
     "output_type": "stream",
     "text": [
      "Enter your name: George Knightley\n"
     ]
    }
   ],
   "source": [
    "name = input(\"Enter your name: \")"
   ]
  },
  {
   "cell_type": "code",
   "execution_count": 8,
   "id": "af1ea8a9",
   "metadata": {},
   "outputs": [
    {
     "name": "stdout",
     "output_type": "stream",
     "text": [
      "Hello, George Knightley! Welcome.\n"
     ]
    }
   ],
   "source": [
    "if name:\n",
    "    print(\"Hello, {}! Welcome.\".format(name))\n",
    "else:\n",
    "    print(\"You didn't enter your name.\")"
   ]
  },
  {
   "cell_type": "markdown",
   "id": "58d719d8",
   "metadata": {},
   "source": [
    "### TASK 1 "
   ]
  },
  {
   "cell_type": "code",
   "execution_count": 9,
   "id": "6e9adc43",
   "metadata": {},
   "outputs": [
    {
     "name": "stdout",
     "output_type": "stream",
     "text": [
      "Enter your age: 21\n"
     ]
    }
   ],
   "source": [
    "age = int(input(\"Enter your age: \"))"
   ]
  },
  {
   "cell_type": "code",
   "execution_count": 10,
   "id": "9559bc91",
   "metadata": {},
   "outputs": [
    {
     "name": "stdout",
     "output_type": "stream",
     "text": [
      "You are eligible to vote.\n"
     ]
    }
   ],
   "source": [
    "if age>= 18:\n",
    "    print(\"You are eligible to vote.\")\n",
    "else:\n",
    "    print(\"You are not eligible to vote yet.\")"
   ]
  },
  {
   "cell_type": "markdown",
   "id": "1f5e78fb",
   "metadata": {},
   "source": [
    "### ELIF "
   ]
  },
  {
   "cell_type": "markdown",
   "id": "d18a338a",
   "metadata": {},
   "source": [
    "- Elif is short for else if.\n",
    "- Elif serves as an alternative to nested if statements.\n",
    "- An if statement can be followed by one or more elif statements (optional & unlimited)."
   ]
  },
  {
   "cell_type": "code",
   "execution_count": 11,
   "id": "773c2983",
   "metadata": {},
   "outputs": [
    {
     "name": "stdout",
     "output_type": "stream",
     "text": [
      "Enter the temperature in Celsius: 30\n",
      "It's a pleasant day.\n"
     ]
    }
   ],
   "source": [
    "temperature = float(input(\"Enter the temperature in Celsius: \"))\n",
    "\n",
    "if temperature > 30:\n",
    "    print(\"It's a hot day!\")\n",
    "elif temperature >= 20 and temperature <= 30:\n",
    "    print(\"It's a pleasant day.\")\n",
    "elif temperature < 20:\n",
    "    print(\"It's a cold day.\")\n",
    "else:\n",
    "    print(\"Invalid temperature input.\")"
   ]
  },
  {
   "cell_type": "markdown",
   "id": "b978d1f6",
   "metadata": {},
   "source": [
    "### TASK 2 "
   ]
  },
  {
   "cell_type": "code",
   "execution_count": 13,
   "id": "ebde2588",
   "metadata": {},
   "outputs": [
    {
     "name": "stdout",
     "output_type": "stream",
     "text": [
      "Enter your math score: 75\n",
      "Enter your English score: 89\n",
      "Your overall performance is: Satisfactory\n"
     ]
    }
   ],
   "source": [
    "math_score = int(input(\"Enter your math score: \"))\n",
    "english_score = int(input(\"Enter your English score: \"))\n",
    "\n",
    "if math_score >= 90 and english_score >= 90:\n",
    "    performance = \"Excellent\"\n",
    "elif math_score >= 80 and english_score >= 80:\n",
    "    performance = \"Good\"\n",
    "elif math_score >= 70 and english_score >= 70:\n",
    "    performance = \"Satisfactory\"\n",
    "else:\n",
    "    performance = \"Needs Improvement\"\n",
    "print(\"Your overall performance is:\", performance)"
   ]
  }
 ],
 "metadata": {
  "kernelspec": {
   "display_name": "Python 3 (ipykernel)",
   "language": "python",
   "name": "python3"
  },
  "language_info": {
   "codemirror_mode": {
    "name": "ipython",
    "version": 3
   },
   "file_extension": ".py",
   "mimetype": "text/x-python",
   "name": "python",
   "nbconvert_exporter": "python",
   "pygments_lexer": "ipython3",
   "version": "3.11.7"
  }
 },
 "nbformat": 4,
 "nbformat_minor": 5
}
