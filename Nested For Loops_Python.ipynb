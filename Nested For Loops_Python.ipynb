{
 "cells": [
  {
   "cell_type": "markdown",
   "id": "d0ccf30b-83e0-4460-ba5f-eb1b39405677",
   "metadata": {},
   "source": [
    "## Nested For Loops \n",
    "\n",
    "Example : Asterisk 3x3"
   ]
  },
  {
   "cell_type": "code",
   "execution_count": 2,
   "id": "7a4cbcf9-3257-413f-9346-26d6b0ce90de",
   "metadata": {},
   "outputs": [
    {
     "name": "stdout",
     "output_type": "stream",
     "text": [
      "* * * \n",
      "* * \n",
      "* \n"
     ]
    }
   ],
   "source": [
    "for row in range (3):\n",
    "    for col in range(3):\n",
    "        if row == 0 and col <=2:\n",
    "            print(\"*\",end = \" \")\n",
    "        elif row == 1 and col <= 1:\n",
    "            print(\"*\", end = \" \")\n",
    "        elif row == 2 and col == 0:\n",
    "            print(\"*\", end = \" \")\n",
    "    print()"
   ]
  },
  {
   "cell_type": "markdown",
   "id": "3e1b048f-d352-46ce-864d-be0dd8481570",
   "metadata": {},
   "source": [
    "## Nested for Loops\n",
    "\n",
    "A nested loop has one loop inside of another. These are typically used for working with two dimensions such as printing stars in rows and columns as shown below.\n",
    "\n",
    "Example : Asterisk symbol 5x5"
   ]
  },
  {
   "cell_type": "code",
   "execution_count": 3,
   "id": "361e181a-00d7-46e7-b294-927150f09417",
   "metadata": {},
   "outputs": [
    {
     "name": "stdout",
     "output_type": "stream",
     "text": [
      "* * * * * \n",
      "* * * * \n",
      "* * * \n",
      "* * \n",
      "* \n"
     ]
    }
   ],
   "source": [
    "for row in range (5):\n",
    "    for col in range(5):\n",
    "        if row == 0 and col <=4:\n",
    "            print(\"*\",end = \" \")\n",
    "        elif row == 1 and col <=3:\n",
    "            print(\"*\", end = \" \")\n",
    "        elif row == 2 and col <=2:\n",
    "            print(\"*\", end = \" \")\n",
    "        elif row == 3 and col <=1:\n",
    "            print(\"*\", end = \" \")\n",
    "        elif row == 4 and col <=0:\n",
    "            print(\"*\", end = \" \")\n",
    "        elif row == 5 and col == 0:\n",
    "            print(\"*\", end = \" \")\n",
    "    print()"
   ]
  },
  {
   "cell_type": "markdown",
   "id": "f42c3103-49b2-4c66-9579-93a53218d187",
   "metadata": {},
   "source": [
    "## For Else \n",
    " - The Else function after For is a function that is prioritized in search loops to provide a way out of the program when the search is not found."
   ]
  },
  {
   "cell_type": "code",
   "execution_count": 7,
   "id": "377b4315-5278-4076-aac5-5e66baa208b9",
   "metadata": {},
   "outputs": [
    {
     "name": "stdout",
     "output_type": "stream",
     "text": [
      "1 adalah bukan genap\n",
      "2 adalah genap\n",
      "3 adalah bukan genap\n",
      "4 adalah genap\n",
      "5 adalah bukan genap\n",
      "6 adalah genap\n"
     ]
    }
   ],
   "source": [
    "for x in range (1,7):\n",
    "    if x % 2 == 0:\n",
    "        print(\"{} adalah genap\".format(x))\n",
    "    else:\n",
    "        print(\"{} adalah bukan genap\".format(x))"
   ]
  },
  {
   "cell_type": "code",
   "execution_count": null,
   "id": "de689e37-0d28-431a-a89f-f32e07be0d9a",
   "metadata": {},
   "outputs": [],
   "source": []
  }
 ],
 "metadata": {
  "kernelspec": {
   "display_name": "Python 3 (ipykernel)",
   "language": "python",
   "name": "python3"
  },
  "language_info": {
   "codemirror_mode": {
    "name": "ipython",
    "version": 3
   },
   "file_extension": ".py",
   "mimetype": "text/x-python",
   "name": "python",
   "nbconvert_exporter": "python",
   "pygments_lexer": "ipython3",
   "version": "3.11.7"
  }
 },
 "nbformat": 4,
 "nbformat_minor": 5
}
