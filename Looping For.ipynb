{
 "cells": [
  {
   "cell_type": "markdown",
   "id": "e20adca5",
   "metadata": {},
   "source": [
    "### FOR "
   ]
  },
  {
   "cell_type": "markdown",
   "id": "4963d451",
   "metadata": {},
   "source": [
    "- For loop is a function used for iterating over elements in a collection or sequence, such as lists, strings, or ranges.\n",
    "- If the collection or sequence contains expressions, they are evaluated before iteration begins.\n",
    "- The first item in the sequence or list is assigned to the iterating variable.\n",
    "- The block of statements associated with the loop is then executed.\n",
    "- This process repeats for each subsequent item in the sequence until the entire sequence is exhausted."
   ]
  },
  {
   "cell_type": "code",
   "execution_count": 1,
   "id": "590b0367",
   "metadata": {},
   "outputs": [
    {
     "name": "stdout",
     "output_type": "stream",
     "text": [
      "Character A\n",
      "Character c\n",
      "Character e\n",
      "Character t\n",
      "Character o\n",
      "Character b\n",
      "Character a\n",
      "Character c\n",
      "Character t\n",
      "Character e\n",
      "Character r\n",
      "Character x\n",
      "Character y\n",
      "Character l\n",
      "Character i\n",
      "Character n\n",
      "Character u\n",
      "Character m\n"
     ]
    }
   ],
   "source": [
    "for z in 'Acetobacterxylinum':\n",
    "    print(\"Character {}\".format(z))"
   ]
  },
  {
   "cell_type": "code",
   "execution_count": 2,
   "id": "03d7dc8d",
   "metadata": {},
   "outputs": [
    {
     "name": "stdout",
     "output_type": "stream",
     "text": [
      "Number: 1\n",
      "Number: 2\n",
      "Number: 3\n",
      "Number: 4\n",
      "Number: 5\n"
     ]
    }
   ],
   "source": [
    "numbers = [1, 2, 3, 4, 5]\n",
    "for num in numbers:\n",
    "    print(\"Number:\", num)"
   ]
  },
  {
   "cell_type": "code",
   "execution_count": 4,
   "id": "4f930e7e",
   "metadata": {},
   "outputs": [
    {
     "name": "stdout",
     "output_type": "stream",
     "text": [
      "0\n",
      "1\n",
      "2\n",
      "3\n",
      "4\n"
     ]
    }
   ],
   "source": [
    "for a in range(5):\n",
    "    print(a)"
   ]
  },
  {
   "cell_type": "code",
   "execution_count": 3,
   "id": "7288fb6c",
   "metadata": {},
   "outputs": [
    {
     "name": "stdout",
     "output_type": "stream",
     "text": [
      "3\n",
      "4\n",
      "5\n",
      "6\n"
     ]
    }
   ],
   "source": [
    "for a in range(3,7):\n",
    "    print(a)"
   ]
  },
  {
   "cell_type": "markdown",
   "id": "dd95bf4e",
   "metadata": {},
   "source": [
    "### TASK 1 "
   ]
  },
  {
   "cell_type": "code",
   "execution_count": 5,
   "id": "822f7f3b",
   "metadata": {},
   "outputs": [
    {
     "name": "stdout",
     "output_type": "stream",
     "text": [
      "character L\n",
      "character i\n",
      "character l\n",
      "character y\n"
     ]
    }
   ],
   "source": [
    "for a in 'Lily':\n",
    "    print(\"character {}\".format(a))"
   ]
  },
  {
   "cell_type": "code",
   "execution_count": 6,
   "id": "26c17952",
   "metadata": {},
   "outputs": [
    {
     "name": "stdout",
     "output_type": "stream",
     "text": [
      "Number: 10\n",
      "Number: 20\n",
      "Number: 30\n",
      "Number: 40\n",
      "Number: 50\n"
     ]
    }
   ],
   "source": [
    "numbers = [10, 20, 30, 40, 50]\n",
    "\n",
    "for num in numbers:\n",
    "    print(\"Number:\", num)"
   ]
  },
  {
   "cell_type": "code",
   "execution_count": 8,
   "id": "2f8d6bb1",
   "metadata": {},
   "outputs": [
    {
     "name": "stdout",
     "output_type": "stream",
     "text": [
      "0\n",
      "1\n"
     ]
    }
   ],
   "source": [
    "for b in range(2):\n",
    "    print(b)"
   ]
  },
  {
   "cell_type": "code",
   "execution_count": 9,
   "id": "01008e47",
   "metadata": {},
   "outputs": [
    {
     "name": "stdout",
     "output_type": "stream",
     "text": [
      "1\n"
     ]
    }
   ],
   "source": [
    "for b in range(1,2):\n",
    "    print(b)"
   ]
  }
 ],
 "metadata": {
  "kernelspec": {
   "display_name": "Python 3 (ipykernel)",
   "language": "python",
   "name": "python3"
  },
  "language_info": {
   "codemirror_mode": {
    "name": "ipython",
    "version": 3
   },
   "file_extension": ".py",
   "mimetype": "text/x-python",
   "name": "python",
   "nbconvert_exporter": "python",
   "pygments_lexer": "ipython3",
   "version": "3.11.7"
  }
 },
 "nbformat": 4,
 "nbformat_minor": 5
}
