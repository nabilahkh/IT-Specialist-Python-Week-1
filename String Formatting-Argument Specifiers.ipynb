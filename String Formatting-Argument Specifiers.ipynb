{
 "cells": [
  {
   "cell_type": "markdown",
   "id": "9d9f5c64",
   "metadata": {},
   "source": [
    "String formatting involves taking a set of variables and, using an expression, formatting them into a provided string that contains placeholders for those variables. This can be achieved using the \"%\" operator combined with \"argument specifiers.\" \n",
    "\n",
    "Common argument specifiers include:\n",
    "- %s - String\n",
    "- %d - Integers\n",
    "- %f - Decimal numbers"
   ]
  },
  {
   "cell_type": "code",
   "execution_count": 1,
   "id": "6e496b29",
   "metadata": {},
   "outputs": [],
   "source": [
    "character_name = \"Elinor Dashwood\""
   ]
  },
  {
   "cell_type": "code",
   "execution_count": 2,
   "id": "fb9dce14",
   "metadata": {},
   "outputs": [
    {
     "data": {
      "text/plain": [
       "str"
      ]
     },
     "execution_count": 2,
     "metadata": {},
     "output_type": "execute_result"
    }
   ],
   "source": [
    "type(character_name)"
   ]
  },
  {
   "cell_type": "code",
   "execution_count": 3,
   "id": "b1a6455e",
   "metadata": {},
   "outputs": [],
   "source": [
    "age = 28"
   ]
  },
  {
   "cell_type": "code",
   "execution_count": 4,
   "id": "b0962017",
   "metadata": {},
   "outputs": [
    {
     "data": {
      "text/plain": [
       "int"
      ]
     },
     "execution_count": 4,
     "metadata": {},
     "output_type": "execute_result"
    }
   ],
   "source": [
    "type(age)"
   ]
  },
  {
   "cell_type": "code",
   "execution_count": 5,
   "id": "20f1acc7",
   "metadata": {},
   "outputs": [],
   "source": [
    "height_cm = 170.2"
   ]
  },
  {
   "cell_type": "code",
   "execution_count": 6,
   "id": "9dbde3d0",
   "metadata": {},
   "outputs": [
    {
     "data": {
      "text/plain": [
       "float"
      ]
     },
     "execution_count": 6,
     "metadata": {},
     "output_type": "execute_result"
    }
   ],
   "source": [
    "type(height_cm)"
   ]
  },
  {
   "cell_type": "code",
   "execution_count": 7,
   "id": "979ba907",
   "metadata": {},
   "outputs": [
    {
     "name": "stdout",
     "output_type": "stream",
     "text": [
      "Character: Elinor Dashwood, age: 28, height: 170.2 cm\n"
     ]
    }
   ],
   "source": [
    "print(\"Character: %s, age: %d, height: %.1f cm\" % (character_name, age, height_cm))"
   ]
  }
 ],
 "metadata": {
  "kernelspec": {
   "display_name": "Python 3 (ipykernel)",
   "language": "python",
   "name": "python3"
  },
  "language_info": {
   "codemirror_mode": {
    "name": "ipython",
    "version": 3
   },
   "file_extension": ".py",
   "mimetype": "text/x-python",
   "name": "python",
   "nbconvert_exporter": "python",
   "pygments_lexer": "ipython3",
   "version": "3.11.7"
  }
 },
 "nbformat": 4,
 "nbformat_minor": 5
}
