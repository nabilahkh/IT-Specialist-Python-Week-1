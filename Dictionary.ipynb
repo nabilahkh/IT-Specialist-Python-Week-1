{
 "cells": [
  {
   "cell_type": "markdown",
   "id": "986b777a-6758-48b1-bc6d-93eee7cbe6de",
   "metadata": {},
   "source": [
    "# Data Type Dictionary"
   ]
  },
  {
   "cell_type": "code",
   "execution_count": 1,
   "id": "b883e10a-d405-4e0e-80ae-3ee4436e6a52",
   "metadata": {},
   "outputs": [
    {
     "name": "stdout",
     "output_type": "stream",
     "text": [
      "{'brand': 'Ford', 'model': 'Mustang', 'year': 1964}\n"
     ]
    }
   ],
   "source": [
    "dict = {\n",
    "  \"brand\": \"Ford\",\n",
    "  \"model\": \"Mustang\",\n",
    "  \"year\": 1964\n",
    "}\n",
    "print(dict)"
   ]
  },
  {
   "cell_type": "code",
   "execution_count": 2,
   "id": "92a8ec1e-2436-47d7-81fa-57bc03570079",
   "metadata": {},
   "outputs": [
    {
     "data": {
      "text/plain": [
       "dict"
      ]
     },
     "execution_count": 2,
     "metadata": {},
     "output_type": "execute_result"
    }
   ],
   "source": [
    "type(dict)"
   ]
  },
  {
   "cell_type": "markdown",
   "id": "7a5a94f2-8be2-4d56-a7cc-697b10d43727",
   "metadata": {},
   "source": [
    "# Nested Dictionary"
   ]
  },
  {
   "cell_type": "code",
   "execution_count": 6,
   "id": "40536430-850e-474a-a8df-36e55af73ddc",
   "metadata": {},
   "outputs": [
    {
     "name": "stdout",
     "output_type": "stream",
     "text": [
      "Deva\n"
     ]
    }
   ],
   "source": [
    "# A dictionary can contain dictionaries, this is called nested dictionaries.\n",
    "\n",
    "member1 = {\n",
    "  \"name\" : \"Dimas\",\n",
    "  \"univ\" : \"Unpad\"\n",
    "}\n",
    "member2 = {\n",
    "  \"name\" : \"Deva\",\n",
    "  \"univ\" : \"Undip\"\n",
    "}\n",
    "member3 = {\n",
    "  \"name\" : \"Nabilah\",\n",
    "  \"univ\" : \"STT NF\"\n",
    "}\n",
    "member4 = {\n",
    "  \"name\" : \"Rara\",\n",
    "  \"univ\" : \"UPI\"\n",
    "}\n",
    "member5 = {\n",
    "  \"name\" : \"Zalfaa\",\n",
    "  \"univ\" : \"Unpad\"\n",
    "}\n",
    "\n",
    "group2 = {\n",
    "  \"member1\" : member1,\n",
    "  \"member2\" : member2,\n",
    "  \"member3\" : member3,\n",
    "  \"member4\" : member4,\n",
    "  \"member5\" : member2\n",
    "}\n",
    "\n",
    "print(group2[\"member2\"][\"name\"])"
   ]
  },
  {
   "cell_type": "code",
   "execution_count": null,
   "id": "ef67224e-5f14-493c-8927-da283775ee2e",
   "metadata": {},
   "outputs": [],
   "source": []
  }
 ],
 "metadata": {
  "kernelspec": {
   "display_name": "Python 3 (ipykernel)",
   "language": "python",
   "name": "python3"
  },
  "language_info": {
   "codemirror_mode": {
    "name": "ipython",
    "version": 3
   },
   "file_extension": ".py",
   "mimetype": "text/x-python",
   "name": "python",
   "nbconvert_exporter": "python",
   "pygments_lexer": "ipython3",
   "version": "3.11.7"
  }
 },
 "nbformat": 4,
 "nbformat_minor": 5
}
