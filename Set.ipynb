{
 "cells": [
  {
   "cell_type": "markdown",
   "id": "df9c31a8-afcc-49d5-aa74-2c076f80db62",
   "metadata": {},
   "source": [
    "# Type Data Set"
   ]
  },
  {
   "cell_type": "code",
   "execution_count": 4,
   "id": "41ac6f81-3357-4102-b160-a4f7d0b71444",
   "metadata": {},
   "outputs": [
    {
     "name": "stdout",
     "output_type": "stream",
     "text": [
      "{'Januari', 'Februari', 'Mei', 'Maret', 'April'}\n"
     ]
    }
   ],
   "source": [
    "month = {\"Januari\", \"Februari\", \"Maret\", \"April\", \"Mei\"}\n",
    "print(month)"
   ]
  },
  {
   "cell_type": "code",
   "execution_count": 5,
   "id": "e7a4bc31-1dd7-4f80-8c01-142b3c9294b5",
   "metadata": {},
   "outputs": [
    {
     "data": {
      "text/plain": [
       "set"
      ]
     },
     "execution_count": 5,
     "metadata": {},
     "output_type": "execute_result"
    }
   ],
   "source": [
    "type(month)"
   ]
  },
  {
   "cell_type": "markdown",
   "id": "0ae15377-088b-480c-9e10-743ebd98b823",
   "metadata": {},
   "source": [
    "# Union & Intersection"
   ]
  },
  {
   "cell_type": "code",
   "execution_count": 9,
   "id": "9020c123-3375-4195-9811-c8596cf560fd",
   "metadata": {},
   "outputs": [],
   "source": [
    "# Define two sets\n",
    "set1 = {1,2,3,4,5}\n",
    "set2 = {3,1,2}"
   ]
  },
  {
   "cell_type": "code",
   "execution_count": 10,
   "id": "074cf2fd-106b-414c-9e5d-5b8316f34c0f",
   "metadata": {},
   "outputs": [
    {
     "data": {
      "text/plain": [
       "{1, 2, 3, 4, 5}"
      ]
     },
     "execution_count": 10,
     "metadata": {},
     "output_type": "execute_result"
    }
   ],
   "source": [
    "# Perform union operation\n",
    "set1.union(set2)"
   ]
  },
  {
   "cell_type": "code",
   "execution_count": 11,
   "id": "4090bd94-1305-4def-8c8c-e4fd74371a17",
   "metadata": {},
   "outputs": [
    {
     "data": {
      "text/plain": [
       "{1, 2, 3}"
      ]
     },
     "execution_count": 11,
     "metadata": {},
     "output_type": "execute_result"
    }
   ],
   "source": [
    "# Perform intersection operation\n",
    "set1.intersection(set2)"
   ]
  },
  {
   "cell_type": "code",
   "execution_count": null,
   "id": "262db960-0478-4fcb-9fab-72964492db8b",
   "metadata": {},
   "outputs": [],
   "source": []
  }
 ],
 "metadata": {
  "kernelspec": {
   "display_name": "Python 3 (ipykernel)",
   "language": "python",
   "name": "python3"
  },
  "language_info": {
   "codemirror_mode": {
    "name": "ipython",
    "version": 3
   },
   "file_extension": ".py",
   "mimetype": "text/x-python",
   "name": "python",
   "nbconvert_exporter": "python",
   "pygments_lexer": "ipython3",
   "version": "3.11.7"
  }
 },
 "nbformat": 4,
 "nbformat_minor": 5
}
