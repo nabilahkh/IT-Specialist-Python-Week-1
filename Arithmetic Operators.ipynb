{
 "cells": [
  {
   "cell_type": "markdown",
   "id": "9d85f5c2-a2bd-4438-864e-c4263b62b42f",
   "metadata": {},
   "source": [
    "#  Addition \" + \""
   ]
  },
  {
   "cell_type": "code",
   "execution_count": 4,
   "id": "b25c709f-e8f1-4d02-b10c-4b2465c6c9d4",
   "metadata": {},
   "outputs": [
    {
     "data": {
      "text/plain": [
       "57"
      ]
     },
     "execution_count": 4,
     "metadata": {},
     "output_type": "execute_result"
    }
   ],
   "source": [
    "# Adds two operands\n",
    "\n",
    "34 + 23"
   ]
  },
  {
   "cell_type": "code",
   "execution_count": 3,
   "id": "80efc7ed-9cde-450d-bef4-0c7b440dfe7b",
   "metadata": {},
   "outputs": [
    {
     "data": {
      "text/plain": [
       "80"
      ]
     },
     "execution_count": 3,
     "metadata": {},
     "output_type": "execute_result"
    }
   ],
   "source": [
    "23 + 12 + 45"
   ]
  },
  {
   "cell_type": "markdown",
   "id": "1984f579-adae-4cf2-9afd-98ee9a706339",
   "metadata": {},
   "source": [
    "# Subtraction “ - ”"
   ]
  },
  {
   "cell_type": "code",
   "execution_count": 5,
   "id": "de38098a-dfbb-4ef2-82e2-e4cb30f45025",
   "metadata": {},
   "outputs": [
    {
     "data": {
      "text/plain": [
       "131"
      ]
     },
     "execution_count": 5,
     "metadata": {},
     "output_type": "execute_result"
    }
   ],
   "source": [
    "#   Subtracts the right-hand operand from the left-hand operand.\n",
    "\n",
    "154 - 23"
   ]
  },
  {
   "cell_type": "code",
   "execution_count": 6,
   "id": "cab9cc49-c7e3-4342-96eb-2866b99a4657",
   "metadata": {},
   "outputs": [
    {
     "data": {
      "text/plain": [
       "107"
      ]
     },
     "execution_count": 6,
     "metadata": {},
     "output_type": "execute_result"
    }
   ],
   "source": [
    "123 - 9 - 7"
   ]
  },
  {
   "cell_type": "markdown",
   "id": "1f47d661-91ad-4412-a681-414a9b457ddd",
   "metadata": {},
   "source": [
    "# Multiplication “ * ”"
   ]
  },
  {
   "cell_type": "code",
   "execution_count": 7,
   "id": "cf18925a-a1c3-448e-8c6f-a55ec625057d",
   "metadata": {},
   "outputs": [
    {
     "data": {
      "text/plain": [
       "28"
      ]
     },
     "execution_count": 7,
     "metadata": {},
     "output_type": "execute_result"
    }
   ],
   "source": [
    "# Multiplies two operands\n",
    "\n",
    "7 * 4"
   ]
  },
  {
   "cell_type": "code",
   "execution_count": 8,
   "id": "cf65c811-dc8e-47b2-a436-8dc53d9a188f",
   "metadata": {},
   "outputs": [
    {
     "data": {
      "text/plain": [
       "120"
      ]
     },
     "execution_count": 8,
     "metadata": {},
     "output_type": "execute_result"
    }
   ],
   "source": [
    "12 * 5 * 2"
   ]
  },
  {
   "cell_type": "markdown",
   "id": "1adb9694-4110-4287-ac06-0538f5eb0714",
   "metadata": {},
   "source": [
    "#  Division “ / ”"
   ]
  },
  {
   "cell_type": "code",
   "execution_count": 10,
   "id": "e1236535-008f-4f98-91cb-787677f059ae",
   "metadata": {},
   "outputs": [
    {
     "data": {
      "text/plain": [
       "40.5"
      ]
     },
     "execution_count": 10,
     "metadata": {},
     "output_type": "execute_result"
    }
   ],
   "source": [
    "# Divides the left-hand operand by the right-hand operand (always results in a floating-point number)\n",
    "\n",
    "81 / 2"
   ]
  },
  {
   "cell_type": "code",
   "execution_count": 11,
   "id": "15cd9acf-268b-49e7-94ce-35cca21c2552",
   "metadata": {},
   "outputs": [
    {
     "data": {
      "text/plain": [
       "6.0"
      ]
     },
     "execution_count": 11,
     "metadata": {},
     "output_type": "execute_result"
    }
   ],
   "source": [
    "24 / 4"
   ]
  },
  {
   "cell_type": "markdown",
   "id": "8c651689-bce0-4b2d-800b-5994c51bbff9",
   "metadata": {},
   "source": [
    "# Modulus “ % ”"
   ]
  },
  {
   "cell_type": "code",
   "execution_count": 13,
   "id": "614fcd3c-1397-4545-895c-352b4ea8b131",
   "metadata": {},
   "outputs": [
    {
     "data": {
      "text/plain": [
       "1"
      ]
     },
     "execution_count": 13,
     "metadata": {},
     "output_type": "execute_result"
    }
   ],
   "source": [
    "# Returns the remainder of the division of the left-hand operand by the right-hand operand\n",
    "\n",
    "35 % 2"
   ]
  },
  {
   "cell_type": "code",
   "execution_count": 14,
   "id": "507d5003-abf0-48f2-b5d3-e10c40b87b7e",
   "metadata": {},
   "outputs": [
    {
     "data": {
      "text/plain": [
       "0"
      ]
     },
     "execution_count": 14,
     "metadata": {},
     "output_type": "execute_result"
    }
   ],
   "source": [
    "40 % 2"
   ]
  },
  {
   "cell_type": "markdown",
   "id": "9933dbdb-6ee8-4c88-9916-00e4c09769f4",
   "metadata": {},
   "source": [
    "# Exponentiation “ ** ”"
   ]
  },
  {
   "cell_type": "code",
   "execution_count": 17,
   "id": "5dd39d42-b61a-48e9-be7b-2932a69e1bde",
   "metadata": {},
   "outputs": [
    {
     "data": {
      "text/plain": [
       "4"
      ]
     },
     "execution_count": 17,
     "metadata": {},
     "output_type": "execute_result"
    }
   ],
   "source": [
    "#  Raises the left-hand operand to the power of the right-hand operand\n",
    "\n",
    "2 ** 2"
   ]
  },
  {
   "cell_type": "code",
   "execution_count": 18,
   "id": "1c0d8d1e-b32d-4d14-81ab-615476cb09b4",
   "metadata": {},
   "outputs": [
    {
     "data": {
      "text/plain": [
       "3125"
      ]
     },
     "execution_count": 18,
     "metadata": {},
     "output_type": "execute_result"
    }
   ],
   "source": [
    "5 ** 5"
   ]
  },
  {
   "cell_type": "markdown",
   "id": "68465a41-60ce-4766-b47f-b8a18f763fd3",
   "metadata": {},
   "source": [
    "# Floor Division “ // ”"
   ]
  },
  {
   "cell_type": "code",
   "execution_count": 20,
   "id": "10718036-4230-48ef-9fbc-f4d06c601a4d",
   "metadata": {},
   "outputs": [
    {
     "data": {
      "text/plain": [
       "8"
      ]
     },
     "execution_count": 20,
     "metadata": {},
     "output_type": "execute_result"
    }
   ],
   "source": [
    "#  Divides the left-hand operand by the right-hand operand and returns the integer part of the result\n",
    "\n",
    "24 // 3"
   ]
  },
  {
   "cell_type": "code",
   "execution_count": 21,
   "id": "a437451e-53a5-402a-9b6d-0781942ceb29",
   "metadata": {},
   "outputs": [
    {
     "data": {
      "text/plain": [
       "36"
      ]
     },
     "execution_count": 21,
     "metadata": {},
     "output_type": "execute_result"
    }
   ],
   "source": [
    "72 // 2"
   ]
  },
  {
   "cell_type": "code",
   "execution_count": null,
   "id": "3f515ca1-66aa-4e29-9307-c08d50301ab8",
   "metadata": {},
   "outputs": [],
   "source": []
  }
 ],
 "metadata": {
  "kernelspec": {
   "display_name": "Python 3 (ipykernel)",
   "language": "python",
   "name": "python3"
  },
  "language_info": {
   "codemirror_mode": {
    "name": "ipython",
    "version": 3
   },
   "file_extension": ".py",
   "mimetype": "text/x-python",
   "name": "python",
   "nbconvert_exporter": "python",
   "pygments_lexer": "ipython3",
   "version": "3.11.7"
  }
 },
 "nbformat": 4,
 "nbformat_minor": 5
}
