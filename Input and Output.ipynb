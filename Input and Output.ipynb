{
 "cells": [
  {
   "cell_type": "markdown",
   "id": "8be23608",
   "metadata": {},
   "source": [
    "# Input and Output"
   ]
  },
  {
   "cell_type": "markdown",
   "id": "071093ee",
   "metadata": {},
   "source": [
    "The print() function allows you to present output in different formats, while the input() function facilitates user interaction by collecting input while the program is running."
   ]
  },
  {
   "cell_type": "markdown",
   "id": "6a842c2a",
   "metadata": {},
   "source": [
    "## Output: print"
   ]
  },
  {
   "cell_type": "markdown",
   "id": "982e4e87",
   "metadata": {},
   "source": [
    "This function allows us to display text, variables, and expressions on the console."
   ]
  },
  {
   "cell_type": "code",
   "execution_count": 1,
   "id": "9ae3b7e4",
   "metadata": {},
   "outputs": [
    {
     "name": "stdout",
     "output_type": "stream",
     "text": [
      "Welcome to Python Programming!\n"
     ]
    }
   ],
   "source": [
    "print(\"Welcome to Python Programming!\")"
   ]
  },
  {
   "cell_type": "markdown",
   "id": "81188f98",
   "metadata": {},
   "source": [
    "Inserting variable values into a string in Python can be done using various methods. \n",
    "\n",
    "One approach is to directly concatenate the variables within the print() statement."
   ]
  },
  {
   "cell_type": "code",
   "execution_count": 4,
   "id": "99b6d614",
   "metadata": {},
   "outputs": [],
   "source": [
    "b = 10"
   ]
  },
  {
   "cell_type": "code",
   "execution_count": 5,
   "id": "f0f133cd",
   "metadata": {},
   "outputs": [
    {
     "data": {
      "text/plain": [
       "int"
      ]
     },
     "execution_count": 5,
     "metadata": {},
     "output_type": "execute_result"
    }
   ],
   "source": [
    "type(b)"
   ]
  },
  {
   "cell_type": "code",
   "execution_count": 6,
   "id": "f22c858a",
   "metadata": {},
   "outputs": [
    {
     "name": "stdout",
     "output_type": "stream",
     "text": [
      "The value stored in variable b is 10\n"
     ]
    }
   ],
   "source": [
    "print(\"The value stored in variable b is\", b)"
   ]
  },
  {
   "cell_type": "code",
   "execution_count": 7,
   "id": "62792219",
   "metadata": {},
   "outputs": [],
   "source": [
    "actor = \"Tom Hanks\""
   ]
  },
  {
   "cell_type": "code",
   "execution_count": 8,
   "id": "50ddd4ff",
   "metadata": {},
   "outputs": [
    {
     "name": "stdout",
     "output_type": "stream",
     "text": [
      "The actor starring in the movie is Tom Hanks\n"
     ]
    }
   ],
   "source": [
    "print(\"The actor starring in the movie is\", actor)"
   ]
  },
  {
   "cell_type": "markdown",
   "id": "0bf5ac1c",
   "metadata": {},
   "source": [
    "Print single and multiple variable in Python"
   ]
  },
  {
   "cell_type": "code",
   "execution_count": 3,
   "id": "15227c51",
   "metadata": {},
   "outputs": [
    {
     "name": "stdout",
     "output_type": "stream",
     "text": [
      "Title: Pride and Prejudice Author: Jane Austen\n"
     ]
    }
   ],
   "source": [
    "book_title = \"Pride and Prejudice\"\n",
    "author = \"Jane Austen\"\n",
    "print(\"Title:\", book_title, \"Author:\", author)"
   ]
  },
  {
   "cell_type": "markdown",
   "id": "42ce8a54",
   "metadata": {},
   "source": [
    "To display text (string), you can use the string formatting mechanism."
   ]
  },
  {
   "cell_type": "code",
   "execution_count": 9,
   "id": "619af2be",
   "metadata": {},
   "outputs": [
    {
     "name": "stdout",
     "output_type": "stream",
     "text": [
      "The main character in Jane Austen's novel is Elizabeth Bennet\n"
     ]
    }
   ],
   "source": [
    "print(\"The main character in Jane Austen's novel is {}\".format('Elizabeth Bennet'))"
   ]
  },
  {
   "cell_type": "code",
   "execution_count": 10,
   "id": "c0149ca4",
   "metadata": {},
   "outputs": [],
   "source": [
    "novel = \"Sense and Sensibility\""
   ]
  },
  {
   "cell_type": "code",
   "execution_count": 11,
   "id": "cad9cdf3",
   "metadata": {},
   "outputs": [
    {
     "name": "stdout",
     "output_type": "stream",
     "text": [
      "One of Jane Austen's famous novels is Sense and Sensibility\n"
     ]
    }
   ],
   "source": [
    "print(\"One of Jane Austen's famous novels is {}\".format(novel))"
   ]
  },
  {
   "cell_type": "code",
   "execution_count": 12,
   "id": "c778c42a",
   "metadata": {},
   "outputs": [],
   "source": [
    "location = \"Bath\""
   ]
  },
  {
   "cell_type": "code",
   "execution_count": 13,
   "id": "12741867",
   "metadata": {},
   "outputs": [
    {
     "name": "stdout",
     "output_type": "stream",
     "text": [
      "Jane Austen lived in the city of Bath\n"
     ]
    }
   ],
   "source": [
    "print(\"Jane Austen lived in the city of {}\".format(location))"
   ]
  },
  {
   "cell_type": "code",
   "execution_count": 14,
   "id": "3a987c9b",
   "metadata": {},
   "outputs": [
    {
     "name": "stdout",
     "output_type": "stream",
     "text": [
      "The setting of the story is in Regency England\n"
     ]
    }
   ],
   "source": [
    "print(\"The setting of the story is in {}\".format('Regency England'))"
   ]
  },
  {
   "cell_type": "markdown",
   "id": "bba40816",
   "metadata": {},
   "source": [
    "### TASK 1"
   ]
  },
  {
   "cell_type": "markdown",
   "id": "f08be1fd",
   "metadata": {},
   "source": [
    "Directly concatenate the variables within the print() "
   ]
  },
  {
   "cell_type": "code",
   "execution_count": 15,
   "id": "f5a3dd0d",
   "metadata": {},
   "outputs": [],
   "source": [
    "age = 21"
   ]
  },
  {
   "cell_type": "code",
   "execution_count": 16,
   "id": "1b833130",
   "metadata": {},
   "outputs": [
    {
     "name": "stdout",
     "output_type": "stream",
     "text": [
      "My age is 21\n"
     ]
    }
   ],
   "source": [
    "print(\"My age is\", age)"
   ]
  },
  {
   "cell_type": "code",
   "execution_count": 17,
   "id": "2e51d447",
   "metadata": {},
   "outputs": [],
   "source": [
    "name = 'Marry Shelley'"
   ]
  },
  {
   "cell_type": "code",
   "execution_count": 18,
   "id": "3ebffd93",
   "metadata": {},
   "outputs": [
    {
     "name": "stdout",
     "output_type": "stream",
     "text": [
      "My name is Marry Shelley\n"
     ]
    }
   ],
   "source": [
    "print(\"My name is\", name)"
   ]
  },
  {
   "cell_type": "markdown",
   "id": "8a9bbb11",
   "metadata": {},
   "source": [
    "Single and multiple variable "
   ]
  },
  {
   "cell_type": "code",
   "execution_count": 19,
   "id": "d550990f",
   "metadata": {},
   "outputs": [],
   "source": [
    "movie_title = \"Emma\"\n",
    "director = \"Autumn de Wilde\""
   ]
  },
  {
   "cell_type": "code",
   "execution_count": 20,
   "id": "ba57ebbd",
   "metadata": {},
   "outputs": [
    {
     "name": "stdout",
     "output_type": "stream",
     "text": [
      "Movie Title: Emma Director: Autumn de Wilde\n"
     ]
    }
   ],
   "source": [
    "print(\"Movie Title:\", movie_title, \"Director:\", director)"
   ]
  },
  {
   "cell_type": "markdown",
   "id": "41939f5b",
   "metadata": {},
   "source": [
    "String formatting mechanism"
   ]
  },
  {
   "cell_type": "code",
   "execution_count": 21,
   "id": "8f0ad6a1",
   "metadata": {},
   "outputs": [],
   "source": [
    "book_title = \"Mansfield Park\"\n",
    "protagonist = \"Fanny Price\""
   ]
  },
  {
   "cell_type": "code",
   "execution_count": 22,
   "id": "1d5dd190",
   "metadata": {},
   "outputs": [
    {
     "name": "stdout",
     "output_type": "stream",
     "text": [
      "The protagonist in the novel 'Mansfield Park' is Fanny Price\n"
     ]
    }
   ],
   "source": [
    "print(\"The protagonist in the novel '{}' is {}\".format(book_title, protagonist))"
   ]
  },
  {
   "cell_type": "code",
   "execution_count": 23,
   "id": "1525c567",
   "metadata": {},
   "outputs": [],
   "source": [
    "novel = \"Emma\"\n",
    "main_character = \"Emma Woodhouse\""
   ]
  },
  {
   "cell_type": "code",
   "execution_count": 24,
   "id": "4f6acf6e",
   "metadata": {},
   "outputs": [
    {
     "name": "stdout",
     "output_type": "stream",
     "text": [
      "The main character in Jane Austen's novel 'Emma' is Emma Woodhouse\n"
     ]
    }
   ],
   "source": [
    "print(\"The main character in Jane Austen's novel '{}' is {}\".format(novel, main_character))"
   ]
  },
  {
   "cell_type": "code",
   "execution_count": 25,
   "id": "0998c128",
   "metadata": {},
   "outputs": [
    {
     "name": "stdout",
     "output_type": "stream",
     "text": [
      "The story takes place in Hampshire\n"
     ]
    }
   ],
   "source": [
    "location = \"Hampshire\"\n",
    "print(\"The story takes place in {}\".format(location))"
   ]
  },
  {
   "cell_type": "code",
   "execution_count": 26,
   "id": "1905011c",
   "metadata": {},
   "outputs": [
    {
     "name": "stdout",
     "output_type": "stream",
     "text": [
      "The time period is during the early 19th century\n"
     ]
    }
   ],
   "source": [
    "print(\"The time period is during the early 19th century\")"
   ]
  },
  {
   "cell_type": "markdown",
   "id": "07f6a1dc",
   "metadata": {},
   "source": [
    "### Input: input() "
   ]
  },
  {
   "cell_type": "markdown",
   "id": "3531621a",
   "metadata": {},
   "source": [
    "To enable user input in your program, utilize the input() function. Within parentheses (), provide the text to be displayed (prompt), and assign a variable preceding the equal sign (=) to store the user's input. By default, the input() function in Python is utilized for accepting user input, capturing it as a string.\n",
    "\n",
    "Syntax: input(prompt)"
   ]
  },
  {
   "cell_type": "code",
   "execution_count": 27,
   "id": "fbb9764a",
   "metadata": {},
   "outputs": [
    {
     "name": "stdout",
     "output_type": "stream",
     "text": [
      "Hello!\n"
     ]
    },
    {
     "data": {
      "text/plain": [
       "'Hello!'"
      ]
     },
     "execution_count": 27,
     "metadata": {},
     "output_type": "execute_result"
    }
   ],
   "source": [
    "input()"
   ]
  },
  {
   "cell_type": "code",
   "execution_count": 29,
   "id": "437befea",
   "metadata": {},
   "outputs": [
    {
     "name": "stdout",
     "output_type": "stream",
     "text": [
      "What is yout favorite color? Black and Pink\n"
     ]
    }
   ],
   "source": [
    "color = input(\"What is yout favorite color? \")"
   ]
  },
  {
   "cell_type": "code",
   "execution_count": 30,
   "id": "17754375",
   "metadata": {},
   "outputs": [
    {
     "name": "stdout",
     "output_type": "stream",
     "text": [
      "Your favorite color is: Black and Pink\n"
     ]
    }
   ],
   "source": [
    "print(\"Your favorite color is:\", color)"
   ]
  },
  {
   "cell_type": "code",
   "execution_count": 31,
   "id": "92c8dc8e",
   "metadata": {},
   "outputs": [
    {
     "data": {
      "text/plain": [
       "str"
      ]
     },
     "execution_count": 31,
     "metadata": {},
     "output_type": "execute_result"
    }
   ],
   "source": [
    "type(color)"
   ]
  },
  {
   "cell_type": "code",
   "execution_count": 32,
   "id": "33a8cb0b",
   "metadata": {},
   "outputs": [
    {
     "name": "stdout",
     "output_type": "stream",
     "text": [
      "25\n"
     ]
    }
   ],
   "source": [
    "age = int(input())"
   ]
  },
  {
   "cell_type": "code",
   "execution_count": 33,
   "id": "3d034d02",
   "metadata": {},
   "outputs": [
    {
     "data": {
      "text/plain": [
       "int"
      ]
     },
     "execution_count": 33,
     "metadata": {},
     "output_type": "execute_result"
    }
   ],
   "source": [
    "type(age)"
   ]
  },
  {
   "cell_type": "code",
   "execution_count": 34,
   "id": "01923870",
   "metadata": {},
   "outputs": [
    {
     "name": "stdout",
     "output_type": "stream",
     "text": [
      "25\n"
     ]
    }
   ],
   "source": [
    "age = input()"
   ]
  },
  {
   "cell_type": "code",
   "execution_count": 35,
   "id": "dc78284e",
   "metadata": {},
   "outputs": [
    {
     "data": {
      "text/plain": [
       "str"
      ]
     },
     "execution_count": 35,
     "metadata": {},
     "output_type": "execute_result"
    }
   ],
   "source": [
    "type(age)"
   ]
  },
  {
   "cell_type": "markdown",
   "id": "65e68f8c",
   "metadata": {},
   "source": [
    "### TASK 2 "
   ]
  },
  {
   "cell_type": "markdown",
   "id": "70029fd5",
   "metadata": {},
   "source": [
    "Using argument specifiers with the print statement"
   ]
  },
  {
   "cell_type": "code",
   "execution_count": 36,
   "id": "4d258cc5",
   "metadata": {},
   "outputs": [],
   "source": [
    "name = \"Emma Watson\""
   ]
  },
  {
   "cell_type": "code",
   "execution_count": 37,
   "id": "3bc4802b",
   "metadata": {},
   "outputs": [],
   "source": [
    "age = 28"
   ]
  },
  {
   "cell_type": "code",
   "execution_count": 38,
   "id": "ed004ba1",
   "metadata": {},
   "outputs": [],
   "source": [
    "height = 163.7"
   ]
  },
  {
   "cell_type": "code",
   "execution_count": 39,
   "id": "5d0a0c44",
   "metadata": {},
   "outputs": [
    {
     "name": "stdout",
     "output_type": "stream",
     "text": [
      "Name: Emma Watson, Age: 28, Height: 163.70\n"
     ]
    }
   ],
   "source": [
    "print(\"Name: %s, Age: %d, Height: %.2f\" % (name, age, height))"
   ]
  },
  {
   "cell_type": "markdown",
   "id": "007a128c",
   "metadata": {},
   "source": [
    "Getting user input for their name, age, and height"
   ]
  },
  {
   "cell_type": "code",
   "execution_count": 41,
   "id": "13b22c6a",
   "metadata": {},
   "outputs": [
    {
     "name": "stdout",
     "output_type": "stream",
     "text": [
      "Enter your name: Harry Potter\n"
     ]
    }
   ],
   "source": [
    "name = input(\"Enter your name: \")"
   ]
  },
  {
   "cell_type": "code",
   "execution_count": 42,
   "id": "f1d423e2",
   "metadata": {},
   "outputs": [
    {
     "name": "stdout",
     "output_type": "stream",
     "text": [
      "Enter yout age: 29\n"
     ]
    }
   ],
   "source": [
    "age = int(input(\"Enter yout age: \"))"
   ]
  },
  {
   "cell_type": "code",
   "execution_count": 43,
   "id": "a90d7e92",
   "metadata": {},
   "outputs": [
    {
     "name": "stdout",
     "output_type": "stream",
     "text": [
      "Enter your height in centimeters: 177.5\n"
     ]
    }
   ],
   "source": [
    "height = float(input(\"Enter your height in centimeters: \"))"
   ]
  },
  {
   "cell_type": "markdown",
   "id": "3dfc54ab",
   "metadata": {},
   "source": [
    "Printing the user's information using argument specifiers"
   ]
  },
  {
   "cell_type": "code",
   "execution_count": 44,
   "id": "b793bd3b",
   "metadata": {},
   "outputs": [
    {
     "name": "stdout",
     "output_type": "stream",
     "text": [
      "Hello Harry Potter, you are 29 years old and 177.50 centimeters tall.\n"
     ]
    }
   ],
   "source": [
    "print(\"Hello %s, you are %d years old and %.2f centimeters tall.\" % (name, age, height))"
   ]
  }
 ],
 "metadata": {
  "kernelspec": {
   "display_name": "Python 3 (ipykernel)",
   "language": "python",
   "name": "python3"
  },
  "language_info": {
   "codemirror_mode": {
    "name": "ipython",
    "version": 3
   },
   "file_extension": ".py",
   "mimetype": "text/x-python",
   "name": "python",
   "nbconvert_exporter": "python",
   "pygments_lexer": "ipython3",
   "version": "3.11.7"
  }
 },
 "nbformat": 4,
 "nbformat_minor": 5
}
